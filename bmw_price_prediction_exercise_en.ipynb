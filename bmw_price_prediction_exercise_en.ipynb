{
  "nbformat": 4,
  "nbformat_minor": 0,
  "metadata": {
    "kernelspec": {
      "display_name": "dl-venv",
      "language": "python",
      "name": "dl-venv"
    },
    "language_info": {
      "codemirror_mode": {
        "name": "ipython",
        "version": 3
      },
      "file_extension": ".py",
      "mimetype": "text/x-python",
      "name": "python",
      "nbconvert_exporter": "python",
      "pygments_lexer": "ipython3",
      "version": "3.7.7"
    },
    "colab": {
      "name": "1.3.2_bmw_price_prediction_exercise_en.ipynb",
      "provenance": [],
      "collapsed_sections": []
    }
  },
  "cells": [
    {
      "cell_type": "markdown",
      "metadata": {
        "id": "-mzJXUtHAm44"
      },
      "source": [
        "Estimating the value of a used car is one of the main everyday challenges in the automotive business. We believe that the sales price of a car is not only based on the value of the product itself, but is also heavily influenced by things like market trends, current availability, and politics.\n",
        "With this challenge, we hope to raise some interest in this exciting topic and also gain some insight into what the main factors are that drive the value of a used car.\n",
        "\n",
        "The data provided consists of almost 5000 real BMW cars that were sold via a b2b auction in 2018. The price shown in the table is the highest bid that was reached during the auction.\n",
        "\n",
        "We have already done some data cleanup and filtered out cars with engine damage etc. However there may still be minor damages like scratches, but we do not have more information about that.\n",
        "\n",
        "We have also extracted 8 criteria based on the equipment of cars that we think might have a good impact on the value of a used car. These criteria have been labeled feature1 to feature8 and are shown in the data below."
      ]
    },
    {
      "cell_type": "markdown",
      "metadata": {
        "id": "V2NzLEVdAm45"
      },
      "source": [
        "## 0. Importing Libraries"
      ]
    },
    {
      "cell_type": "code",
      "metadata": {
        "id": "AYHVVM8_Am46",
        "colab": {
          "base_uri": "https://localhost:8080/",
          "height": 50
        },
        "outputId": "da536fd6-0d43-4745-ac6a-85979be0a875"
      },
      "source": [
        "import pandas as pd\n",
        "import numpy as np\n",
        "import seaborn as sns\n",
        "import matplotlib.pyplot as plt\n",
        "from sklearn.model_selection import train_test_split, GridSearchCV, RandomizedSearchCV\n",
        "from sklearn.linear_model import LinearRegression, Lasso, Ridge, RidgeCV, LassoCV\n",
        "from sklearn.ensemble import RandomForestRegressor, GradientBoostingRegressor\n",
        "from sklearn.preprocessing import PolynomialFeatures\n",
        "from sklearn.preprocessing import StandardScaler, LabelEncoder, OneHotEncoder\n",
        "from sklearn.metrics import mean_squared_error, r2_score\n",
        "import bisect\n",
        "\n",
        "import os\n",
        "import operator\n",
        "from google.colab import drive\n",
        "drive.mount('/content/drive', force_remount=True)\n",
        "os.chdir(\"/content/drive/My Drive/ING5/Deep Learning\")\n",
        "!ls\n",
        "\n",
        "import warnings\n",
        "warnings.filterwarnings('ignore')"
      ],
      "execution_count": null,
      "outputs": [
        {
          "output_type": "stream",
          "text": [
            "Mounted at /content/drive\n",
            "data  figures\n"
          ],
          "name": "stdout"
        }
      ]
    },
    {
      "cell_type": "markdown",
      "metadata": {
        "id": "Ze0_sQs7Am4-"
      },
      "source": [
        "##  1. Reading data"
      ]
    },
    {
      "cell_type": "code",
      "metadata": {
        "id": "qZzIkrUBAm4-"
      },
      "source": [
        "df = pd.read_csv(\"data/bmw_pricing_challenge.csv\")"
      ],
      "execution_count": null,
      "outputs": []
    },
    {
      "cell_type": "code",
      "metadata": {
        "id": "2708oKPoAm5C",
        "colab": {
          "base_uri": "https://localhost:8080/",
          "height": 299
        },
        "outputId": "165e250e-9c92-4d77-d8e1-df9eb5bab934"
      },
      "source": [
        "df.head()"
      ],
      "execution_count": null,
      "outputs": [
        {
          "output_type": "execute_result",
          "data": {
            "text/html": [
              "<div>\n",
              "<style scoped>\n",
              "    .dataframe tbody tr th:only-of-type {\n",
              "        vertical-align: middle;\n",
              "    }\n",
              "\n",
              "    .dataframe tbody tr th {\n",
              "        vertical-align: top;\n",
              "    }\n",
              "\n",
              "    .dataframe thead th {\n",
              "        text-align: right;\n",
              "    }\n",
              "</style>\n",
              "<table border=\"1\" class=\"dataframe\">\n",
              "  <thead>\n",
              "    <tr style=\"text-align: right;\">\n",
              "      <th></th>\n",
              "      <th>maker_key</th>\n",
              "      <th>model_key</th>\n",
              "      <th>mileage</th>\n",
              "      <th>engine_power</th>\n",
              "      <th>registration_date</th>\n",
              "      <th>fuel</th>\n",
              "      <th>paint_color</th>\n",
              "      <th>car_type</th>\n",
              "      <th>feature_1</th>\n",
              "      <th>feature_2</th>\n",
              "      <th>feature_3</th>\n",
              "      <th>feature_4</th>\n",
              "      <th>feature_5</th>\n",
              "      <th>feature_6</th>\n",
              "      <th>feature_7</th>\n",
              "      <th>feature_8</th>\n",
              "      <th>price</th>\n",
              "      <th>sold_at</th>\n",
              "    </tr>\n",
              "  </thead>\n",
              "  <tbody>\n",
              "    <tr>\n",
              "      <th>0</th>\n",
              "      <td>BMW</td>\n",
              "      <td>118</td>\n",
              "      <td>140411</td>\n",
              "      <td>100</td>\n",
              "      <td>2012-02-01</td>\n",
              "      <td>diesel</td>\n",
              "      <td>black</td>\n",
              "      <td>convertible</td>\n",
              "      <td>True</td>\n",
              "      <td>True</td>\n",
              "      <td>False</td>\n",
              "      <td>False</td>\n",
              "      <td>True</td>\n",
              "      <td>True</td>\n",
              "      <td>True</td>\n",
              "      <td>False</td>\n",
              "      <td>11300</td>\n",
              "      <td>2018-01-01</td>\n",
              "    </tr>\n",
              "    <tr>\n",
              "      <th>1</th>\n",
              "      <td>BMW</td>\n",
              "      <td>M4</td>\n",
              "      <td>13929</td>\n",
              "      <td>317</td>\n",
              "      <td>2016-04-01</td>\n",
              "      <td>petrol</td>\n",
              "      <td>grey</td>\n",
              "      <td>convertible</td>\n",
              "      <td>True</td>\n",
              "      <td>True</td>\n",
              "      <td>False</td>\n",
              "      <td>False</td>\n",
              "      <td>False</td>\n",
              "      <td>True</td>\n",
              "      <td>True</td>\n",
              "      <td>True</td>\n",
              "      <td>69700</td>\n",
              "      <td>2018-02-01</td>\n",
              "    </tr>\n",
              "    <tr>\n",
              "      <th>2</th>\n",
              "      <td>BMW</td>\n",
              "      <td>320</td>\n",
              "      <td>183297</td>\n",
              "      <td>120</td>\n",
              "      <td>2012-04-01</td>\n",
              "      <td>diesel</td>\n",
              "      <td>white</td>\n",
              "      <td>convertible</td>\n",
              "      <td>False</td>\n",
              "      <td>False</td>\n",
              "      <td>False</td>\n",
              "      <td>False</td>\n",
              "      <td>True</td>\n",
              "      <td>False</td>\n",
              "      <td>True</td>\n",
              "      <td>False</td>\n",
              "      <td>10200</td>\n",
              "      <td>2018-02-01</td>\n",
              "    </tr>\n",
              "    <tr>\n",
              "      <th>3</th>\n",
              "      <td>BMW</td>\n",
              "      <td>420</td>\n",
              "      <td>128035</td>\n",
              "      <td>135</td>\n",
              "      <td>2014-07-01</td>\n",
              "      <td>diesel</td>\n",
              "      <td>red</td>\n",
              "      <td>convertible</td>\n",
              "      <td>True</td>\n",
              "      <td>True</td>\n",
              "      <td>False</td>\n",
              "      <td>False</td>\n",
              "      <td>True</td>\n",
              "      <td>True</td>\n",
              "      <td>True</td>\n",
              "      <td>True</td>\n",
              "      <td>25100</td>\n",
              "      <td>2018-02-01</td>\n",
              "    </tr>\n",
              "    <tr>\n",
              "      <th>4</th>\n",
              "      <td>BMW</td>\n",
              "      <td>425</td>\n",
              "      <td>97097</td>\n",
              "      <td>160</td>\n",
              "      <td>2014-12-01</td>\n",
              "      <td>diesel</td>\n",
              "      <td>silver</td>\n",
              "      <td>convertible</td>\n",
              "      <td>True</td>\n",
              "      <td>True</td>\n",
              "      <td>False</td>\n",
              "      <td>False</td>\n",
              "      <td>False</td>\n",
              "      <td>True</td>\n",
              "      <td>True</td>\n",
              "      <td>True</td>\n",
              "      <td>33400</td>\n",
              "      <td>2018-04-01</td>\n",
              "    </tr>\n",
              "  </tbody>\n",
              "</table>\n",
              "</div>"
            ],
            "text/plain": [
              "  maker_key model_key  mileage  ...  feature_8  price     sold_at\n",
              "0       BMW       118   140411  ...      False  11300  2018-01-01\n",
              "1       BMW        M4    13929  ...       True  69700  2018-02-01\n",
              "2       BMW       320   183297  ...      False  10200  2018-02-01\n",
              "3       BMW       420   128035  ...       True  25100  2018-02-01\n",
              "4       BMW       425    97097  ...       True  33400  2018-04-01\n",
              "\n",
              "[5 rows x 18 columns]"
            ]
          },
          "metadata": {
            "tags": []
          },
          "execution_count": 5
        }
      ]
    },
    {
      "cell_type": "code",
      "metadata": {
        "id": "Zw4a2wEIAm5G",
        "colab": {
          "base_uri": "https://localhost:8080/",
          "height": 34
        },
        "outputId": "eba48986-d9d6-4b3e-abec-f493124ff76a"
      },
      "source": [
        "df.shape"
      ],
      "execution_count": null,
      "outputs": [
        {
          "output_type": "execute_result",
          "data": {
            "text/plain": [
              "(4843, 18)"
            ]
          },
          "metadata": {
            "tags": []
          },
          "execution_count": 6
        }
      ]
    },
    {
      "cell_type": "code",
      "metadata": {
        "scrolled": true,
        "id": "CoVw9B30Am5J",
        "colab": {
          "base_uri": "https://localhost:8080/",
          "height": 284
        },
        "outputId": "cc52184a-9607-4679-cbb0-a65065694cf1"
      },
      "source": [
        "df.describe()"
      ],
      "execution_count": null,
      "outputs": [
        {
          "output_type": "execute_result",
          "data": {
            "text/html": [
              "<div>\n",
              "<style scoped>\n",
              "    .dataframe tbody tr th:only-of-type {\n",
              "        vertical-align: middle;\n",
              "    }\n",
              "\n",
              "    .dataframe tbody tr th {\n",
              "        vertical-align: top;\n",
              "    }\n",
              "\n",
              "    .dataframe thead th {\n",
              "        text-align: right;\n",
              "    }\n",
              "</style>\n",
              "<table border=\"1\" class=\"dataframe\">\n",
              "  <thead>\n",
              "    <tr style=\"text-align: right;\">\n",
              "      <th></th>\n",
              "      <th>mileage</th>\n",
              "      <th>engine_power</th>\n",
              "      <th>price</th>\n",
              "    </tr>\n",
              "  </thead>\n",
              "  <tbody>\n",
              "    <tr>\n",
              "      <th>count</th>\n",
              "      <td>4.843000e+03</td>\n",
              "      <td>4843.00000</td>\n",
              "      <td>4843.000000</td>\n",
              "    </tr>\n",
              "    <tr>\n",
              "      <th>mean</th>\n",
              "      <td>1.409628e+05</td>\n",
              "      <td>128.98823</td>\n",
              "      <td>15828.081767</td>\n",
              "    </tr>\n",
              "    <tr>\n",
              "      <th>std</th>\n",
              "      <td>6.019674e+04</td>\n",
              "      <td>38.99336</td>\n",
              "      <td>9220.285684</td>\n",
              "    </tr>\n",
              "    <tr>\n",
              "      <th>min</th>\n",
              "      <td>-6.400000e+01</td>\n",
              "      <td>0.00000</td>\n",
              "      <td>100.000000</td>\n",
              "    </tr>\n",
              "    <tr>\n",
              "      <th>25%</th>\n",
              "      <td>1.029135e+05</td>\n",
              "      <td>100.00000</td>\n",
              "      <td>10800.000000</td>\n",
              "    </tr>\n",
              "    <tr>\n",
              "      <th>50%</th>\n",
              "      <td>1.410800e+05</td>\n",
              "      <td>120.00000</td>\n",
              "      <td>14200.000000</td>\n",
              "    </tr>\n",
              "    <tr>\n",
              "      <th>75%</th>\n",
              "      <td>1.751955e+05</td>\n",
              "      <td>135.00000</td>\n",
              "      <td>18600.000000</td>\n",
              "    </tr>\n",
              "    <tr>\n",
              "      <th>max</th>\n",
              "      <td>1.000376e+06</td>\n",
              "      <td>423.00000</td>\n",
              "      <td>178500.000000</td>\n",
              "    </tr>\n",
              "  </tbody>\n",
              "</table>\n",
              "</div>"
            ],
            "text/plain": [
              "            mileage  engine_power          price\n",
              "count  4.843000e+03    4843.00000    4843.000000\n",
              "mean   1.409628e+05     128.98823   15828.081767\n",
              "std    6.019674e+04      38.99336    9220.285684\n",
              "min   -6.400000e+01       0.00000     100.000000\n",
              "25%    1.029135e+05     100.00000   10800.000000\n",
              "50%    1.410800e+05     120.00000   14200.000000\n",
              "75%    1.751955e+05     135.00000   18600.000000\n",
              "max    1.000376e+06     423.00000  178500.000000"
            ]
          },
          "metadata": {
            "tags": []
          },
          "execution_count": 7
        }
      ]
    },
    {
      "cell_type": "markdown",
      "metadata": {
        "id": "71j8IycPAm5M"
      },
      "source": [
        "## 2. Exploratory Data Analysis"
      ]
    },
    {
      "cell_type": "markdown",
      "metadata": {
        "id": "S3_oZMNrAm5N"
      },
      "source": [
        "### 2.1. Missing Values"
      ]
    },
    {
      "cell_type": "markdown",
      "metadata": {
        "id": "THTV5lirAm5N"
      },
      "source": [
        "Check if the dataset contains any missing values."
      ]
    },
    {
      "cell_type": "code",
      "metadata": {
        "id": "aD6b9rs2Am5O",
        "colab": {
          "base_uri": "https://localhost:8080/",
          "height": 34
        },
        "outputId": "e15fada5-b8d1-4394-ef80-092481ba57a9"
      },
      "source": [
        "#print(df.shape)\n",
        "\n",
        "df.isna().sum()\n",
        "\n",
        "#print(df[df.mileage < 0])\n",
        "\n",
        "df = df[df.mileage > 0]\n",
        "\n",
        "print(df.shape)"
      ],
      "execution_count": null,
      "outputs": [
        {
          "output_type": "stream",
          "text": [
            "(4842, 18)\n"
          ],
          "name": "stdout"
        }
      ]
    },
    {
      "cell_type": "markdown",
      "metadata": {
        "id": "Gl0RDrsxAm5R"
      },
      "source": [
        "### 2.2. Distribution of the target variable"
      ]
    },
    {
      "cell_type": "markdown",
      "metadata": {
        "id": "AyMlotIwAm5R"
      },
      "source": [
        "Plot the distribution of the target variable."
      ]
    },
    {
      "cell_type": "code",
      "metadata": {
        "id": "KFdmd9QKAm5S",
        "colab": {
          "base_uri": "https://localhost:8080/",
          "height": 513
        },
        "outputId": "333f9fa2-0ad6-43bd-b6f7-d70f5f3a2644"
      },
      "source": [
        "plt.figure(figsize=(20,8))\n",
        "\n",
        "plt.subplot(1,2,1)\n",
        "plt.title('Car Price Distribution Plot')\n",
        "sns.distplot(df.price)\n",
        "\n",
        "plt.subplot(1,2,2)\n",
        "plt.title('Car Price Spread')\n",
        "sns.boxplot(y=df.price)\n",
        "\n",
        "plt.show()"
      ],
      "execution_count": null,
      "outputs": [
        {
          "output_type": "display_data",
          "data": {
            "image/png": "[encoded data removed]",
            "text/plain": [
              "<Figure size 1440x576 with 2 Axes>"
            ]
          },
          "metadata": {
            "tags": [],
            "needs_background": "light"
          }
        }
      ]
    },
    {
      "cell_type": "markdown",
      "metadata": {
        "id": "I68oYgkfAm5W"
      },
      "source": [
        "### 2.3. Distribution of numerical variables"
      ]
    },
    {
      "cell_type": "markdown",
      "metadata": {
        "id": "uTJALXRSAm5W"
      },
      "source": [
        "Plot the distribution of the numerical features."
      ]
    },
    {
      "cell_type": "code",
      "metadata": {
        "id": "GepO7BxSAm5X",
        "colab": {
          "base_uri": "https://localhost:8080/",
          "height": 351
        },
        "outputId": "8a9e6e10-12e8-491f-e1d7-3cfe490f41d6"
      },
      "source": [
        "num_cols = ['mileage', 'engine_power']\n",
        "fig_rows = np.ceil(len(num_cols)/2)\n",
        "\n",
        "plt.figure(figsize=(15, fig_rows*5))\n",
        "plt.subplots_adjust(hspace=0.5)\n",
        "\n",
        "for ind, col in enumerate(num_cols):\n",
        "    plt.subplot(fig_rows,2,ind+1)\n",
        "    plt.title(col+' Distribution')\n",
        "    ax = sns.distplot(df[col])\n",
        "    ax.set(xlabel = col, ylabel='Frequency')"
      ],
      "execution_count": null,
      "outputs": [
        {
          "output_type": "display_data",
          "data": {
            "image/png": "[encoded data removed]",
            "text/plain": [
              "<Figure size 1080x360 with 2 Axes>"
            ]
          },
          "metadata": {
            "tags": [],
            "needs_background": "light"
          }
        }
      ]
    },
    {
      "cell_type": "markdown",
      "metadata": {
        "id": "X8mVWl-GAm5a"
      },
      "source": [
        "### 2.4. Histogram of categorical variables"
      ]
    },
    {
      "cell_type": "markdown",
      "metadata": {
        "id": "fO63FkZ7Am5a"
      },
      "source": [
        "Plot the histogram of the categorical features."
      ]
    },
    {
      "cell_type": "code",
      "metadata": {
        "id": "dyltSYsfAm5b",
        "colab": {
          "base_uri": "https://localhost:8080/",
          "height": 1000
        },
        "outputId": "451c3bc8-fc41-4440-c73f-63d3e9b4e4e7"
      },
      "source": [
        "cat_cols =['fuel', 'paint_color', 'car_type', 'model_key', 'feature_1',\t'feature_2',\t'feature_3',\t'feature_4',\t'feature_5',\t'feature_6',\t'feature_7', 'feature_8']\n",
        "fig_rows = np.ceil(len(cat_cols)/2)\n",
        "\n",
        "plt.figure(figsize=(15, fig_rows*6))\n",
        "plt.subplots_adjust(hspace=0.7)\n",
        "\n",
        "for ind, col in enumerate(cat_cols):\n",
        "    plt.subplot(fig_rows,2,ind+1)\n",
        "    plt.title(col+' Histogram')\n",
        "    ax = sns.countplot(df[col])\n",
        "    ax.set(xlabel = col, ylabel='Frequency')\n",
        "    xtickslabels=ax.get_xticklabels()\n",
        "    ax.set_xticklabels(xtickslabels, rotation=80)\n",
        "    # reduce number of ticks when too many\n",
        "    if(len(xtickslabels)>20):\n",
        "        for ind, label in enumerate(xtickslabels):\n",
        "            if ind % 5 == 0:  # every 5th label is kept\n",
        "                label.set_visible(True)\n",
        "            else:\n",
        "                label.set_visible(False)"
      ],
      "execution_count": null,
      "outputs": [
        {
          "output_type": "display_data",
          "data": {
            "image/png": "[encoded data removed]",
            "text/plain": [
              "<Figure size 1080x2592 with 12 Axes>"
            ]
          },
          "metadata": {
            "tags": [],
            "needs_background": "light"
          }
        }
      ]
    },
    {
      "cell_type": "markdown",
      "metadata": {
        "id": "4X67lFuIAm5e"
      },
      "source": [
        "## 3. Data Splitting"
      ]
    },
    {
      "cell_type": "markdown",
      "metadata": {
        "id": "TjGuK_R5Am5f"
      },
      "source": [
        "Split the dataset into 2 training and test datasets."
      ]
    },
    {
      "cell_type": "code",
      "metadata": {
        "id": "lkjQjW8Tixdg",
        "colab": {
          "base_uri": "https://localhost:8080/",
          "height": 84
        },
        "outputId": "5c1a8977-9233-4fa7-c499-8bd9effa8025"
      },
      "source": [
        "y = df.pop(\"price\")\n",
        "X = df\n",
        "\n",
        "X_train, X_test, y_train, y_test = train_test_split(X, y, test_size = 0.30, random_state=8)\n",
        "print(X_train.shape)\n",
        "print(y_train.shape)\n",
        "print(X_test.shape)\n",
        "print(y_test.shape)"
      ],
      "execution_count": null,
      "outputs": [
        {
          "output_type": "stream",
          "text": [
            "(3389, 17)\n",
            "(3389,)\n",
            "(1453, 17)\n",
            "(1453,)\n"
          ],
          "name": "stdout"
        }
      ]
    },
    {
      "cell_type": "markdown",
      "metadata": {
        "id": "Rya9arlQAm5f"
      },
      "source": [
        "## 4. Feature Engineering"
      ]
    },
    {
      "cell_type": "markdown",
      "metadata": {
        "id": "NsA7KzYHAm5g"
      },
      "source": [
        "### 4.1. Removing non-predictive features"
      ]
    },
    {
      "cell_type": "markdown",
      "metadata": {
        "id": "xCd2LLqyAm5g"
      },
      "source": [
        "Remove any unnecessary feature."
      ]
    },
    {
      "cell_type": "code",
      "metadata": {
        "id": "Qrvs9pfsAm5h",
        "colab": {
          "base_uri": "https://localhost:8080/",
          "height": 50
        },
        "outputId": "3a572d5b-c711-4264-ac7d-3dfaeea62c6c"
      },
      "source": [
        "X_train.drop(['maker_key', 'model_key', 'registration_date', 'paint_color', 'sold_at'], axis=1, inplace=True)\n",
        "X_test.drop(['maker_key', 'model_key', 'registration_date', 'paint_color', 'sold_at'], axis=1, inplace=True)\n",
        "print(X_train.shape)\n",
        "print(X_test.shape)"
      ],
      "execution_count": null,
      "outputs": [
        {
          "output_type": "stream",
          "text": [
            "(3389, 12)\n",
            "(1453, 12)\n"
          ],
          "name": "stdout"
        }
      ]
    },
    {
      "cell_type": "markdown",
      "metadata": {
        "id": "6HBQ-13VAm5l"
      },
      "source": [
        "### 4.2. Creating new features"
      ]
    },
    {
      "cell_type": "markdown",
      "metadata": {
        "id": "KuPRqlcvAm5m"
      },
      "source": [
        "Creating polynomial features for numerical columns"
      ]
    },
    {
      "cell_type": "code",
      "metadata": {
        "id": "-XMG5yDJAm5n"
      },
      "source": [
        "num_cols = ['mileage', 'engine_power']\n",
        "\n",
        "PF = PolynomialFeatures(degree=3, include_bias=False)\n",
        "\n",
        "# Encode categorical columns, and store results in a new dataframe\n",
        "X_train_poly = pd.DataFrame(PF.fit_transform(X_train[num_cols]), index=X_train.index)\n",
        "X_test_poly = pd.DataFrame(PF.transform(X_test[num_cols]), index=X_test.index)\n",
        "\n",
        "# Adding poly columns to initial datasets\n",
        "poly_feature_names = PF.get_feature_names()\n",
        "replace_dict = {\"x\"+str(i):num_cols[i] for i in range(2)}\n",
        "\n",
        "for ind, name in replace_dict.items():\n",
        "    poly_feature_names = [w.replace(ind, name) for w in poly_feature_names]\n",
        "X_train_poly.columns = poly_feature_names\n",
        "X_test_poly.columns = poly_feature_names\n",
        "\n",
        "# Drop initial columns \n",
        "X_train.drop(num_cols ,axis=1, inplace=True)\n",
        "X_test.drop(num_cols ,axis=1, inplace=True)\n",
        "num_cols = poly_feature_names\n",
        "\n",
        "# Add feature engineered columns to initial dataset\n",
        "X_train = pd.concat([X_train, X_train_poly], axis=1)\n",
        "X_test = pd.concat([X_test, X_test_poly ], axis=1) "
      ],
      "execution_count": null,
      "outputs": []
    },
    {
      "cell_type": "markdown",
      "metadata": {
        "id": "QxgPr0PyAm5q"
      },
      "source": [
        "### 4.3. Scaling numerical variables"
      ]
    },
    {
      "cell_type": "code",
      "metadata": {
        "id": "GyB_CbVUAm5r",
        "colab": {
          "base_uri": "https://localhost:8080/",
          "height": 232
        },
        "outputId": "5fb2ee01-cf1d-4e04-921d-e80ce82a0402"
      },
      "source": [
        "SS = StandardScaler()\n",
        "scaled_cols = num_cols \n",
        "\n",
        "X_train[scaled_cols] = SS.fit_transform(X_train[scaled_cols])\n",
        "X_test[scaled_cols] = SS.transform(X_test[scaled_cols])\n",
        "\n",
        "X_train.dtypes\n",
        "\n",
        "X_train.head()"
      ],
      "execution_count": null,
      "outputs": [
        {
          "output_type": "execute_result",
          "data": {
            "text/html": [
              "<div>\n",
              "<style scoped>\n",
              "    .dataframe tbody tr th:only-of-type {\n",
              "        vertical-align: middle;\n",
              "    }\n",
              "\n",
              "    .dataframe tbody tr th {\n",
              "        vertical-align: top;\n",
              "    }\n",
              "\n",
              "    .dataframe thead th {\n",
              "        text-align: right;\n",
              "    }\n",
              "</style>\n",
              "<table border=\"1\" class=\"dataframe\">\n",
              "  <thead>\n",
              "    <tr style=\"text-align: right;\">\n",
              "      <th></th>\n",
              "      <th>fuel</th>\n",
              "      <th>car_type</th>\n",
              "      <th>feature_1</th>\n",
              "      <th>feature_2</th>\n",
              "      <th>feature_3</th>\n",
              "      <th>feature_4</th>\n",
              "      <th>feature_5</th>\n",
              "      <th>feature_6</th>\n",
              "      <th>feature_7</th>\n",
              "      <th>feature_8</th>\n",
              "      <th>mileage</th>\n",
              "      <th>engine_power</th>\n",
              "      <th>mileage^2</th>\n",
              "      <th>mileage engine_power</th>\n",
              "      <th>engine_power^2</th>\n",
              "      <th>mileage^3</th>\n",
              "      <th>mileage^2 engine_power</th>\n",
              "      <th>mileage engine_power^2</th>\n",
              "      <th>engine_power^3</th>\n",
              "    </tr>\n",
              "  </thead>\n",
              "  <tbody>\n",
              "    <tr>\n",
              "      <th>161</th>\n",
              "      <td>diesel</td>\n",
              "      <td>estate</td>\n",
              "      <td>True</td>\n",
              "      <td>True</td>\n",
              "      <td>False</td>\n",
              "      <td>False</td>\n",
              "      <td>False</td>\n",
              "      <td>False</td>\n",
              "      <td>True</td>\n",
              "      <td>False</td>\n",
              "      <td>1.752337</td>\n",
              "      <td>-0.231600</td>\n",
              "      <td>1.447922</td>\n",
              "      <td>1.236238</td>\n",
              "      <td>-0.299044</td>\n",
              "      <td>0.565744</td>\n",
              "      <td>1.389694</td>\n",
              "      <td>0.524014</td>\n",
              "      <td>-0.306839</td>\n",
              "    </tr>\n",
              "    <tr>\n",
              "      <th>754</th>\n",
              "      <td>diesel</td>\n",
              "      <td>estate</td>\n",
              "      <td>True</td>\n",
              "      <td>True</td>\n",
              "      <td>True</td>\n",
              "      <td>False</td>\n",
              "      <td>True</td>\n",
              "      <td>False</td>\n",
              "      <td>True</td>\n",
              "      <td>True</td>\n",
              "      <td>0.050301</td>\n",
              "      <td>-0.231600</td>\n",
              "      <td>-0.108538</td>\n",
              "      <td>-0.086400</td>\n",
              "      <td>-0.299044</td>\n",
              "      <td>-0.091026</td>\n",
              "      <td>-0.166942</td>\n",
              "      <td>-0.222103</td>\n",
              "      <td>-0.306839</td>\n",
              "    </tr>\n",
              "    <tr>\n",
              "      <th>1460</th>\n",
              "      <td>diesel</td>\n",
              "      <td>estate</td>\n",
              "      <td>True</td>\n",
              "      <td>True</td>\n",
              "      <td>False</td>\n",
              "      <td>False</td>\n",
              "      <td>False</td>\n",
              "      <td>False</td>\n",
              "      <td>True</td>\n",
              "      <td>True</td>\n",
              "      <td>0.344430</td>\n",
              "      <td>-0.231600</td>\n",
              "      <td>0.101623</td>\n",
              "      <td>0.142165</td>\n",
              "      <td>-0.299044</td>\n",
              "      <td>-0.023235</td>\n",
              "      <td>0.043243</td>\n",
              "      <td>-0.093167</td>\n",
              "      <td>-0.306839</td>\n",
              "    </tr>\n",
              "    <tr>\n",
              "      <th>2729</th>\n",
              "      <td>diesel</td>\n",
              "      <td>sedan</td>\n",
              "      <td>True</td>\n",
              "      <td>True</td>\n",
              "      <td>False</td>\n",
              "      <td>False</td>\n",
              "      <td>True</td>\n",
              "      <td>True</td>\n",
              "      <td>True</td>\n",
              "      <td>True</td>\n",
              "      <td>-0.849529</td>\n",
              "      <td>2.324134</td>\n",
              "      <td>-0.598906</td>\n",
              "      <td>0.165442</td>\n",
              "      <td>2.385112</td>\n",
              "      <td>-0.213736</td>\n",
              "      <td>-0.402051</td>\n",
              "      <td>0.903591</td>\n",
              "      <td>2.174393</td>\n",
              "    </tr>\n",
              "    <tr>\n",
              "      <th>4456</th>\n",
              "      <td>diesel</td>\n",
              "      <td>suv</td>\n",
              "      <td>False</td>\n",
              "      <td>True</td>\n",
              "      <td>True</td>\n",
              "      <td>True</td>\n",
              "      <td>True</td>\n",
              "      <td>True</td>\n",
              "      <td>True</td>\n",
              "      <td>False</td>\n",
              "      <td>0.303530</td>\n",
              "      <td>0.023974</td>\n",
              "      <td>0.070929</td>\n",
              "      <td>0.280161</td>\n",
              "      <td>-0.101680</td>\n",
              "      <td>-0.033623</td>\n",
              "      <td>0.093902</td>\n",
              "      <td>0.088434</td>\n",
              "      <td>-0.176379</td>\n",
              "    </tr>\n",
              "  </tbody>\n",
              "</table>\n",
              "</div>"
            ],
            "text/plain": [
              "        fuel car_type  ...  mileage engine_power^2  engine_power^3\n",
              "161   diesel   estate  ...                0.524014       -0.306839\n",
              "754   diesel   estate  ...               -0.222103       -0.306839\n",
              "1460  diesel   estate  ...               -0.093167       -0.306839\n",
              "2729  diesel    sedan  ...                0.903591        2.174393\n",
              "4456  diesel      suv  ...                0.088434       -0.176379\n",
              "\n",
              "[5 rows x 19 columns]"
            ]
          },
          "metadata": {
            "tags": []
          },
          "execution_count": 15
        }
      ]
    },
    {
      "cell_type": "markdown",
      "metadata": {
        "id": "L_A9EKpvAm5t"
      },
      "source": [
        "### 4.4. Categorical variables encoding"
      ]
    },
    {
      "cell_type": "markdown",
      "metadata": {
        "id": "OgAcBIj4Am5u"
      },
      "source": [
        "Convert categorical columns into numerical columns using label encoding or one-hot encoding."
      ]
    },
    {
      "cell_type": "code",
      "metadata": {
        "id": "N6E2JW23Am5u"
      },
      "source": [
        "OHE = OneHotEncoder(drop = None, handle_unknown='ignore', sparse=False)\n",
        "\n",
        "# Define categorical to be one hot encoded\n",
        "ohe_cols = ['fuel', 'car_type']\n",
        "\n",
        "# Encode categorical columns, and store results in a new dataframe\n",
        "X_train_encoded = pd.DataFrame(OHE.fit_transform(X_train[ohe_cols]), index=X_train.index)\n",
        "X_test_encoded = pd.DataFrame(OHE.transform(X_test[ohe_cols]), index=X_test.index)\n",
        "\n",
        "# Retrieve encoded columns names\n",
        "X_train_encoded.columns = OHE.get_feature_names(ohe_cols)\n",
        "X_test_encoded.columns = OHE.get_feature_names(ohe_cols)\n",
        "\n",
        "# Drop initial columns \n",
        "X_train.drop(ohe_cols ,axis=1, inplace=True)\n",
        "X_test.drop(ohe_cols ,axis=1, inplace=True)\n",
        "\n",
        "# Add encoded columns to initial dataset\n",
        "X_train = pd.concat([X_train, X_train_encoded], axis=1)\n",
        "X_test = pd.concat([X_test, X_test_encoded ], axis=1)"
      ],
      "execution_count": null,
      "outputs": []
    },
    {
      "cell_type": "markdown",
      "metadata": {
        "id": "mUFHCRWKAm5w"
      },
      "source": [
        "### 4.5. Converting boolean columns"
      ]
    },
    {
      "cell_type": "code",
      "metadata": {
        "id": "2d2-kG-aAm5x"
      },
      "source": [
        "X_train[\"feature_1\"] = X_train[\"feature_1\"].astype(int)\n",
        "X_train[\"feature_2\"] = X_train[\"feature_2\"].astype(int)\n",
        "X_train[\"feature_3\"] = X_train[\"feature_3\"].astype(int)\n",
        "X_train[\"feature_4\"] = X_train[\"feature_4\"].astype(int)\n",
        "X_train[\"feature_5\"] = X_train[\"feature_5\"].astype(int)\n",
        "X_train[\"feature_6\"] = X_train[\"feature_6\"].astype(int)\n",
        "X_train[\"feature_7\"] = X_train[\"feature_7\"].astype(int)\n",
        "X_train[\"feature_8\"] = X_train[\"feature_8\"].astype(int)\n",
        "X_test[\"feature_1\"] = X_test[\"feature_1\"].astype(int)\n",
        "X_test[\"feature_2\"] = X_test[\"feature_2\"].astype(int)\n",
        "X_test[\"feature_3\"] = X_test[\"feature_3\"].astype(int)\n",
        "X_test[\"feature_4\"] = X_test[\"feature_4\"].astype(int)\n",
        "X_test[\"feature_5\"] = X_test[\"feature_5\"].astype(int)\n",
        "X_test[\"feature_6\"] = X_test[\"feature_6\"].astype(int)\n",
        "X_test[\"feature_7\"] = X_test[\"feature_7\"].astype(int)\n",
        "X_test[\"feature_8\"] = X_test[\"feature_8\"].astype(int)"
      ],
      "execution_count": null,
      "outputs": []
    },
    {
      "cell_type": "markdown",
      "metadata": {
        "id": "Ag7e2rc4Am51"
      },
      "source": [
        "## 5. Linear Regression"
      ]
    },
    {
      "cell_type": "markdown",
      "metadata": {
        "id": "yMTJcztuAm52"
      },
      "source": [
        "Fit a linear regression model on the training set. Evaluate the model on the testing set. Use the $R^2$ as an evaluation metric."
      ]
    },
    {
      "cell_type": "code",
      "metadata": {
        "id": "KtsK2oLvAm52",
        "colab": {
          "base_uri": "https://localhost:8080/",
          "height": 185
        },
        "outputId": "4264d2b6-d8db-4f16-ff2e-b3e9ebb1f362"
      },
      "source": [
        "# fit linear model\n",
        "lr = LinearRegression()\n",
        "lr.fit(X_train, y_train)\n",
        "\n",
        "# predicting over training & testing datasets\n",
        "y_train_pred = lr.predict(X_train)\n",
        "y_test_pred = lr.predict(X_test)\n",
        "\n",
        "importance = lr.coef_\n",
        "\n",
        "\n",
        "rmse = (np.sqrt(mean_squared_error(y_train, y_train_pred)))\n",
        "r2 = r2_score(y_train, y_train_pred)\n",
        "\n",
        "print(\"The model performance for training set\")\n",
        "print(\"--------------------------------------\")\n",
        "print('RMSE is {}'.format(rmse))\n",
        "print('R2 score is {}'.format(r2))\n",
        "print(\"\\n\")\n",
        "\n",
        "# model evaluation for testing set\n",
        "rmse = (np.sqrt(mean_squared_error(y_test, y_test_pred)))\n",
        "r2 = r2_score(y_test, y_test_pred)\n",
        "\n",
        "print(\"The model performance for testing set\")\n",
        "print(\"--------------------------------------\")\n",
        "print('RMSE is {}'.format(rmse))\n",
        "print('R2 score is {}'.format(r2))"
      ],
      "execution_count": null,
      "outputs": [
        {
          "output_type": "stream",
          "text": [
            "The model performance for training set\n",
            "--------------------------------------\n",
            "RMSE is 4889.653284474364\n",
            "R2 score is 0.6997576800088686\n",
            "\n",
            "\n",
            "The model performance for testing set\n",
            "--------------------------------------\n",
            "RMSE is 5982.855083429508\n",
            "R2 score is 0.6237126227138254\n"
          ],
          "name": "stdout"
        }
      ]
    },
    {
      "cell_type": "markdown",
      "metadata": {
        "id": "3iqCjV0VAm55"
      },
      "source": [
        "Plot feature importance/weight."
      ]
    },
    {
      "cell_type": "code",
      "metadata": {
        "id": "dc3a4FtUAm55",
        "colab": {
          "base_uri": "https://localhost:8080/",
          "height": 752
        },
        "outputId": "607122f4-4313-4e1f-8d39-49dd58fe2f54"
      },
      "source": [
        "from matplotlib import pyplot\n",
        "for i,v in enumerate(importance):\n",
        "\tprint('Feature: %0d, Score: %.5f' % (i,v))\n",
        "# plot feature importance\n",
        "pyplot.bar([x for x in range(len(importance))], importance)\n",
        "pyplot.show()\n"
      ],
      "execution_count": null,
      "outputs": [
        {
          "output_type": "stream",
          "text": [
            "Feature: 0, Score: 699.76085\n",
            "Feature: 1, Score: 2491.40668\n",
            "Feature: 2, Score: 522.90629\n",
            "Feature: 3, Score: 1538.73795\n",
            "Feature: 4, Score: 646.99062\n",
            "Feature: 5, Score: 1188.71731\n",
            "Feature: 6, Score: 198.04455\n",
            "Feature: 7, Score: 2817.34931\n",
            "Feature: 8, Score: 2925.99209\n",
            "Feature: 9, Score: 3795.12495\n",
            "Feature: 10, Score: -1721.93577\n",
            "Feature: 11, Score: -11047.73719\n",
            "Feature: 12, Score: 6690.16502\n",
            "Feature: 13, Score: -707.56820\n",
            "Feature: 14, Score: 5000.02738\n",
            "Feature: 15, Score: 1001.70361\n",
            "Feature: 16, Score: -2869.03476\n",
            "Feature: 17, Score: -2939.90860\n",
            "Feature: 18, Score: -605.19881\n",
            "Feature: 19, Score: 11745.94042\n",
            "Feature: 20, Score: -8200.83301\n",
            "Feature: 21, Score: 146.03379\n",
            "Feature: 22, Score: 1335.55081\n",
            "Feature: 23, Score: -1441.43083\n",
            "Feature: 24, Score: -313.44793\n",
            "Feature: 25, Score: 302.79216\n",
            "Feature: 26, Score: -236.18242\n",
            "Feature: 27, Score: 1953.03840\n",
            "Feature: 28, Score: -1746.35398\n"
          ],
          "name": "stdout"
        },
        {
          "output_type": "display_data",
          "data": {
            "image/png": "[encoded data removed]",
            "text/plain": [
              "<Figure size 432x288 with 1 Axes>"
            ]
          },
          "metadata": {
            "tags": [],
            "needs_background": "light"
          }
        }
      ]
    },
    {
      "cell_type": "markdown",
      "metadata": {
        "id": "T0YGe9E6Am58"
      },
      "source": [
        "## 6. Ridge"
      ]
    },
    {
      "cell_type": "markdown",
      "metadata": {
        "id": "SCNYA5imAm58"
      },
      "source": [
        "Fit a ridge regression model on the training set. Use cross-validation in order to tune the regularization parameter of the ridge model. Evaluate the model on the testing set. Use the $R^2$ as an evaluation metric."
      ]
    },
    {
      "cell_type": "code",
      "metadata": {
        "id": "iXbCEFAcAm59",
        "colab": {
          "base_uri": "https://localhost:8080/",
          "height": 185
        },
        "outputId": "91022ac7-29bf-494f-c1cf-08081b59b85a"
      },
      "source": [
        "## training the model\n",
        "param_grid = {'alpha': [10**i for i in np.arange(-4, 4,  0.2, dtype=float)]}\n",
        "\n",
        "ridge = Ridge(normalize=False)\n",
        "ridge_search = GridSearchCV(ridge, param_grid, scoring='r2', cv=5)\n",
        "ridge_search.fit(X_train, y_train)\n",
        "\n",
        "ridge.fit(X_train, y_train)\n",
        "importance = ridge.coef_\n",
        "\n",
        "# predicting over training & testing datasets\n",
        "y_train_pred = ridge_search.predict(X_train)\n",
        "y_test_pred = ridge_search.predict(X_test)\n",
        "\n",
        "\n",
        "# model evaluation for training set\n",
        "rmse = (np.sqrt(mean_squared_error(y_train, y_train_pred)))\n",
        "r2 = r2_score(y_train, y_train_pred)\n",
        "\n",
        "print(\"The model performance for training set\")\n",
        "print(\"--------------------------------------\")\n",
        "print('RMSE is {}'.format(rmse))\n",
        "print('R2 score is {}'.format(r2))\n",
        "print(\"\\n\")\n",
        "\n",
        "# model evaluation for testing set\n",
        "rmse = (np.sqrt(mean_squared_error(y_test, y_test_pred)))\n",
        "r2 = r2_score(y_test, y_test_pred)\n",
        "\n",
        "print(\"The model performance for testing set\")\n",
        "print(\"--------------------------------------\")\n",
        "print('RMSE is {}'.format(rmse))\n",
        "print('R2 score is {}'.format(r2))"
      ],
      "execution_count": null,
      "outputs": [
        {
          "output_type": "stream",
          "text": [
            "The model performance for training set\n",
            "--------------------------------------\n",
            "RMSE is 4906.986486222537\n",
            "R2 score is 0.697625265112432\n",
            "\n",
            "\n",
            "The model performance for testing set\n",
            "--------------------------------------\n",
            "RMSE is 5991.015140386948\n",
            "R2 score is 0.6226854808746296\n"
          ],
          "name": "stdout"
        }
      ]
    },
    {
      "cell_type": "markdown",
      "metadata": {
        "id": "6Ghr65r-Am5_"
      },
      "source": [
        "Plot feature importance/weight."
      ]
    },
    {
      "cell_type": "code",
      "metadata": {
        "id": "0avIIM9GAm5_",
        "colab": {
          "base_uri": "https://localhost:8080/",
          "height": 50
        },
        "outputId": "c7480eba-c54f-4e9c-dcdb-a3a9cccd40d2"
      },
      "source": [
        "ridge_search.best_estimator_"
      ],
      "execution_count": null,
      "outputs": [
        {
          "output_type": "execute_result",
          "data": {
            "text/plain": [
              "Ridge(alpha=6.309573444801995, copy_X=True, fit_intercept=True, max_iter=None,\n",
              "      normalize=False, random_state=None, solver='auto', tol=0.001)"
            ]
          },
          "metadata": {
            "tags": []
          },
          "execution_count": 38
        }
      ]
    },
    {
      "cell_type": "code",
      "metadata": {
        "id": "mAZcz-KFquDr",
        "colab": {
          "base_uri": "https://localhost:8080/",
          "height": 752
        },
        "outputId": "1ce400a2-145e-4274-858c-0ab0a37e195c"
      },
      "source": [
        "for i,v in enumerate(importance):\n",
        "\tprint('Feature: %0d, Score: %.5f' % (i,v))\n",
        "# plot feature importance\n",
        "pyplot.bar([x for x in range(len(importance))], importance)\n",
        "pyplot.show()"
      ],
      "execution_count": null,
      "outputs": [
        {
          "output_type": "stream",
          "text": [
            "Feature: 0, Score: 705.66978\n",
            "Feature: 1, Score: 2495.01383\n",
            "Feature: 2, Score: 524.19873\n",
            "Feature: 3, Score: 1549.53134\n",
            "Feature: 4, Score: 636.63712\n",
            "Feature: 5, Score: 1185.57763\n",
            "Feature: 6, Score: 185.78358\n",
            "Feature: 7, Score: 2815.23652\n",
            "Feature: 8, Score: 1689.23571\n",
            "Feature: 9, Score: 3414.70000\n",
            "Feature: 10, Score: -522.45168\n",
            "Feature: 11, Score: -9234.97430\n",
            "Feature: 12, Score: 6542.02410\n",
            "Feature: 13, Score: -954.57981\n",
            "Feature: 14, Score: 4039.99265\n",
            "Feature: 15, Score: 393.39821\n",
            "Feature: 16, Score: -2565.47201\n",
            "Feature: 17, Score: -2439.27569\n",
            "Feature: 18, Score: -186.89697\n",
            "Feature: 19, Score: 10270.97523\n",
            "Feature: 20, Score: -7644.80257\n",
            "Feature: 21, Score: 122.08170\n",
            "Feature: 22, Score: 1357.29824\n",
            "Feature: 23, Score: -1446.19667\n",
            "Feature: 24, Score: -307.42078\n",
            "Feature: 25, Score: 305.64404\n",
            "Feature: 26, Score: -216.30295\n",
            "Feature: 27, Score: 1948.86681\n",
            "Feature: 28, Score: -1763.97039\n"
          ],
          "name": "stdout"
        },
        {
          "output_type": "display_data",
          "data": {
            "image/png": "[encoded data removed]",
            "text/plain": [
              "<Figure size 432x288 with 1 Axes>"
            ]
          },
          "metadata": {
            "tags": [],
            "needs_background": "light"
          }
        }
      ]
    },
    {
      "cell_type": "markdown",
      "metadata": {
        "id": "COSpBPj1Am6B"
      },
      "source": [
        "## 7. Lasso"
      ]
    },
    {
      "cell_type": "markdown",
      "metadata": {
        "id": "Um9W0BsiAm6C"
      },
      "source": [
        "Fit a lasso regression model on the training set. Use cross-validation in order to tune the regularization parameter of the ridge model. Evaluate the model on the testing set. Use the $R^2$ as an evaluation metric."
      ]
    },
    {
      "cell_type": "code",
      "metadata": {
        "id": "F2NQXJPsAm6C",
        "colab": {
          "base_uri": "https://localhost:8080/",
          "height": 185
        },
        "outputId": "02a6805e-e66e-420b-88cd-7855087f44c7"
      },
      "source": [
        "## training the model\n",
        "param_grid = {'alpha': [10**i for i in np.arange(-4, 4,  0.5, dtype=float)]}\n",
        "\n",
        "lasso = Lasso(normalize=False)\n",
        "lasso_search = GridSearchCV(lasso, param_grid, scoring='r2', cv=5)\n",
        "lasso_search.fit(X_train, y_train)\n",
        "\n",
        "lasso.fit(X_train, y_train)\n",
        "importance = lasso.coef_\n",
        "\n",
        "# predicting over training & testing datasets\n",
        "y_train_pred = lasso_search.predict(X_train)\n",
        "y_test_pred = lasso_search.predict(X_test)\n",
        "\n",
        "# model evaluation for training set\n",
        "rmse = (np.sqrt(mean_squared_error(y_train, y_train_pred)))\n",
        "r2 = r2_score(y_train, y_train_pred)\n",
        "\n",
        "\n",
        "print(\"The model performance for training set\")\n",
        "print(\"--------------------------------------\")\n",
        "print('RMSE is {}'.format(rmse))\n",
        "print('R2 score is {}'.format(r2))\n",
        "print(\"\\n\")\n",
        "\n",
        "# model evaluation for testing set\n",
        "rmse = (np.sqrt(mean_squared_error(y_test, y_test_pred)))\n",
        "r2 = r2_score(y_test, y_test_pred)\n",
        "\n",
        "print(\"The model performance for testing set\")\n",
        "print(\"--------------------------------------\")\n",
        "print('RMSE is {}'.format(rmse))\n",
        "print('R2 score is {}'.format(r2))"
      ],
      "execution_count": null,
      "outputs": [
        {
          "output_type": "stream",
          "text": [
            "The model performance for training set\n",
            "--------------------------------------\n",
            "RMSE is 4971.487221370766\n",
            "R2 score is 0.6896237857482701\n",
            "\n",
            "\n",
            "The model performance for testing set\n",
            "--------------------------------------\n",
            "RMSE is 6031.921666559017\n",
            "R2 score is 0.6175152986796162\n"
          ],
          "name": "stdout"
        }
      ]
    },
    {
      "cell_type": "markdown",
      "metadata": {
        "id": "A3Pn84stAm6I"
      },
      "source": [
        "Plot feature importance/weight."
      ]
    },
    {
      "cell_type": "code",
      "metadata": {
        "id": "ZI-Fhmt3Am6J",
        "colab": {
          "base_uri": "https://localhost:8080/",
          "height": 67
        },
        "outputId": "84e4f1e9-c52f-4ddd-f9a9-ce809223164e"
      },
      "source": [
        "lasso_search.best_estimator_"
      ],
      "execution_count": null,
      "outputs": [
        {
          "output_type": "execute_result",
          "data": {
            "text/plain": [
              "Lasso(alpha=31.622776601683793, copy_X=True, fit_intercept=True, max_iter=1000,\n",
              "      normalize=False, positive=False, precompute=False, random_state=None,\n",
              "      selection='cyclic', tol=0.0001, warm_start=False)"
            ]
          },
          "metadata": {
            "tags": []
          },
          "execution_count": 42
        }
      ]
    },
    {
      "cell_type": "code",
      "metadata": {
        "id": "e8bIpzeaq5ZL",
        "colab": {
          "base_uri": "https://localhost:8080/",
          "height": 755
        },
        "outputId": "27d5aedc-6e5d-485f-df02-85faf09a4ea3"
      },
      "source": [
        "for i,v in enumerate(importance):\n",
        "\tprint('Feature: %0d, Score: %.5f' % (i,v))\n",
        "# plot feature importance\n",
        "pyplot.bar([x for x in range(len(importance))], importance)\n",
        "pyplot.show()"
      ],
      "execution_count": null,
      "outputs": [
        {
          "output_type": "stream",
          "text": [
            "Feature: 0, Score: 708.20866\n",
            "Feature: 1, Score: 2495.87039\n",
            "Feature: 2, Score: 511.91922\n",
            "Feature: 3, Score: 1538.79169\n",
            "Feature: 4, Score: 645.68115\n",
            "Feature: 5, Score: 1187.25427\n",
            "Feature: 6, Score: 160.05033\n",
            "Feature: 7, Score: 2820.38722\n",
            "Feature: 8, Score: 1354.17241\n",
            "Feature: 9, Score: 2561.75962\n",
            "Feature: 10, Score: -368.12705\n",
            "Feature: 11, Score: -8608.53776\n",
            "Feature: 12, Score: 7867.55504\n",
            "Feature: 13, Score: -986.11876\n",
            "Feature: 14, Score: 3925.17388\n",
            "Feature: 15, Score: 29.36293\n",
            "Feature: 16, Score: -3084.14342\n",
            "Feature: 17, Score: -0.78744\n",
            "Feature: 18, Score: 396.71004\n",
            "Feature: 19, Score: 14008.16157\n",
            "Feature: 20, Score: -5240.68785\n",
            "Feature: 21, Score: 5.21955\n",
            "Feature: 22, Score: 1280.14857\n",
            "Feature: 23, Score: -1475.04590\n",
            "Feature: 24, Score: -346.00030\n",
            "Feature: 25, Score: 271.37157\n",
            "Feature: 26, Score: -262.30921\n",
            "Feature: 27, Score: 1909.92541\n",
            "Feature: 28, Score: -1769.72244\n"
          ],
          "name": "stdout"
        },
        {
          "output_type": "display_data",
          "data": {
            "image/png": "[encoded data removed]",
            "text/plain": [
              "<Figure size 432x288 with 1 Axes>"
            ]
          },
          "metadata": {
            "tags": [],
            "needs_background": "light"
          }
        }
      ]
    }
  ]
}